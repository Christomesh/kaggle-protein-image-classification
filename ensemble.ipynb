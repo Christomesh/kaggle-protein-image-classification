{
 "cells": [
  {
   "cell_type": "code",
   "execution_count": 1,
   "metadata": {},
   "outputs": [],
   "source": [
    "import pandas as pd\n",
    "import numpy\n",
    "import pickle\n",
    "import numpy as np\n",
    "from scipy import stats\n",
    "from collections import Counter"
   ]
  },
  {
   "cell_type": "markdown",
   "metadata": {},
   "source": [
    "# Find number of images in each class"
   ]
  },
  {
   "cell_type": "code",
   "execution_count": 3,
   "metadata": {},
   "outputs": [
    {
     "data": {
      "text/html": [
       "<div>\n",
       "<style scoped>\n",
       "    .dataframe tbody tr th:only-of-type {\n",
       "        vertical-align: middle;\n",
       "    }\n",
       "\n",
       "    .dataframe tbody tr th {\n",
       "        vertical-align: top;\n",
       "    }\n",
       "\n",
       "    .dataframe thead th {\n",
       "        text-align: right;\n",
       "    }\n",
       "</style>\n",
       "<table border=\"1\" class=\"dataframe\">\n",
       "  <thead>\n",
       "    <tr style=\"text-align: right;\">\n",
       "      <th></th>\n",
       "      <th>Image</th>\n",
       "      <th>Label</th>\n",
       "    </tr>\n",
       "  </thead>\n",
       "  <tbody>\n",
       "    <tr>\n",
       "      <th>0</th>\n",
       "      <td>19567</td>\n",
       "      <td>9</td>\n",
       "    </tr>\n",
       "    <tr>\n",
       "      <th>1</th>\n",
       "      <td>29993</td>\n",
       "      <td>6 4</td>\n",
       "    </tr>\n",
       "    <tr>\n",
       "      <th>2</th>\n",
       "      <td>17186</td>\n",
       "      <td>1 4</td>\n",
       "    </tr>\n",
       "    <tr>\n",
       "      <th>3</th>\n",
       "      <td>29600</td>\n",
       "      <td>6 2</td>\n",
       "    </tr>\n",
       "    <tr>\n",
       "      <th>4</th>\n",
       "      <td>701</td>\n",
       "      <td>3 4</td>\n",
       "    </tr>\n",
       "  </tbody>\n",
       "</table>\n",
       "</div>"
      ],
      "text/plain": [
       "   Image Label\n",
       "0  19567     9\n",
       "1  29993   6 4\n",
       "2  17186   1 4\n",
       "3  29600   6 2\n",
       "4    701   3 4"
      ]
     },
     "execution_count": 3,
     "metadata": {},
     "output_type": "execute_result"
    }
   ],
   "source": [
    "train_csv = pd.read_csv('train.csv').drop(['Unnamed: 0'], axis=1)\n",
    "train_csv.head()"
   ]
  },
  {
   "cell_type": "code",
   "execution_count": 4,
   "metadata": {},
   "outputs": [
    {
     "data": {
      "text/plain": [
       "Counter({9: 1278,\n",
       "         6: 5711,\n",
       "         4: 9066,\n",
       "         1: 1752,\n",
       "         2: 2542,\n",
       "         3: 1977,\n",
       "         7: 2629,\n",
       "         0: 2088,\n",
       "         8: 1037,\n",
       "         5: 1109})"
      ]
     },
     "execution_count": 4,
     "metadata": {},
     "output_type": "execute_result"
    }
   ],
   "source": [
    "all_label = []\n",
    "for label in train_csv.Label:\n",
    "     for l in str(label).split(' '):\n",
    "        all_label.append(int(l))\n",
    "from collections import Counter\n",
    "Counter(all_label)"
   ]
  },
  {
   "cell_type": "markdown",
   "metadata": {},
   "source": [
    "## Fill NA with mode (class 4)\n",
    "Didn't use this method in the submission."
   ]
  },
  {
   "cell_type": "code",
   "execution_count": 5,
   "metadata": {},
   "outputs": [],
   "source": [
    "def check_na(table, filled_table, is_max=False):\n",
    "    print(len(table[table.Label.isnull()]))\n",
    "    print(len(filled_table[filled_table.Label.isnull()]))\n",
    "    new_table = table.copy()\n",
    "    \n",
    "    new_table = table.merge(filled_table, on='Image', how='left', suffixes=('', '_b'))\n",
    "    \n",
    "    if is_max==False:\n",
    "        filled = filled_table.Label\n",
    "    else:\n",
    "        filled = 4\n",
    "        new_table['Label'] = new_table.fillna(new_table.Label_b)\n",
    "    print(f\"after{len(new_table[new_table.Label.isnull()])}\")\n",
    "    \n",
    "    return new_table[['Image', 'Label']]\n",
    "\n",
    "def ensem(s):\n",
    "    list_s = s.split(' ')\n",
    "    dups = [gene for gene, cnt in Counter(list_s).items() if cnt >= 2]\n",
    "    if len(dups) > 0:\n",
    "        res = ' '.join(dups)\n",
    "    else:\n",
    "        res = list_s[0]\n",
    "        for pred in list_s:\n",
    "            if label_dict[pred] > label_dict[res]:\n",
    "                res = pred\n",
    "    return res"
   ]
  },
  {
   "cell_type": "code",
   "execution_count": 7,
   "metadata": {},
   "outputs": [],
   "source": [
    "# ensemble.Label = (ensemble.Label + ' '+ c.Label + ' '+ a.Label).str.strip()\n",
    "# ensemble = ensemble.fillna('4')\n",
    "\n",
    "# ensemble.Label = ensemble.Label.map(lambda x: ensem(x))\n",
    "# ensemble"
   ]
  },
  {
   "cell_type": "markdown",
   "metadata": {},
   "source": [
    "## Generating submission files start here"
   ]
  },
  {
   "cell_type": "code",
   "execution_count": 28,
   "metadata": {},
   "outputs": [],
   "source": [
    "import pandas as pd\n",
    "## Set the threshold to 0.5 to predict classes\n",
    "def e_to_double(num_str):\n",
    "    return [float(s.strip()) for s in num_str.strip('[]').split(' ') if s.strip() != '']\n",
    "\n",
    "def decode_target(target, text_labels=False, threshold=0.5):\n",
    "    result = []\n",
    "    for i, x in enumerate(target):\n",
    "        if (x >= threshold):\n",
    "            if text_labels:\n",
    "                result.append(labels[i] + \"(\" + str(i) + \")\")\n",
    "            else:\n",
    "                result.append(str(i))\n",
    "    return ' '.join(result)\n",
    "\n",
    "\n",
    "def string_to_list(num_str):\n",
    "    return [s.strip() for s in num_str[1:-1].split(',')]\n",
    "\n",
    "def convert_to_float(tensor_str):\n",
    "    return [float(i.replace('tensor', '').replace('(', '').replace(')', '')) for i in tensor_str]\n",
    "\n",
    "def fill_na_with_threshold(df, th, argmax=False):\n",
    "    print(f\"#missing classes before th = {len(df[df.Label == ''])}\")\n",
    "    if argmax: \n",
    "        df['Label'] = np.where(df.Label == '', df.avg.apply(lambda x: np.argmax(x)), en.Label)\n",
    "    else:\n",
    "        df['Label'] = np.where(df.Label == '', df.avg.apply(lambda x: decode_target(x, threshold=th)), en.Label)\n",
    "    print(f\"#missing classes after th = {len(df[df.Label == ''])}\")"
   ]
  },
  {
   "cell_type": "code",
   "execution_count": 29,
   "metadata": {},
   "outputs": [],
   "source": [
    "df = pd.read_csv('pred_data/test_tf_efficientb1_submission_0.8246.csv')\n",
    "df2 = pd.read_csv('pred_data/efficientb1_submission_0.8209.csv')\n",
    "df3 = pd.read_csv('pred_data/efficientb2_submission_0.8_2jul.csv')\n",
    "df4 = pd.read_csv('pred_data/efficientb2_submission_0.80.csv')\n",
    "df5 = pd.read_csv('pred_data/efficientb1_0.86_2jul.csv')\n",
    "\n",
    "# df6 = pd.read_csv('../efficientb1_submission_0.8201.csv')\n",
    "# df6.head()"
   ]
  },
  {
   "cell_type": "code",
   "execution_count": 30,
   "metadata": {},
   "outputs": [],
   "source": [
    "df['probs'] = df.Label.apply(lambda x: e_to_double(x))\n",
    "df['Label'] = df.probs.apply(lambda x: decode_target(x))\n",
    "\n",
    "df2['probs'] = df2.Label.apply(lambda x: e_to_double(x))\n",
    "df2['Label'] = df2.probs.apply(lambda x: decode_target(x))\n",
    "\n",
    "df3['probs'] = df3.Label.apply(lambda x: e_to_double(x))\n",
    "df3['Label'] = df3.probs.apply(lambda x: decode_target(x))\n",
    "\n",
    "df4['probs'] = df4.Label.apply(lambda x: e_to_double(x))\n",
    "df4['Label'] = df4.probs.apply(lambda x: decode_target(x))\n",
    "\n",
    "df5['probs'] = df5.Label.apply(lambda x: e_to_double(x))\n",
    "df5['Label'] = df5.probs.apply(lambda x: decode_target(x))"
   ]
  },
  {
   "cell_type": "markdown",
   "metadata": {},
   "source": [
    "#### There is one file below that I forgot to convert tensor to numpy so I had to modify a bit.\n"
   ]
  },
  {
   "cell_type": "code",
   "execution_count": 31,
   "metadata": {},
   "outputs": [],
   "source": [
    "prob_df = pd.read_csv('pred_data/efficientb1_submission_tl0.1191_vl0.1590_vs0.8118.csv')\n",
    "prob_df['probs'] = prob_df.Label.apply(lambda x: string_to_list(x))\n",
    "prob_df['probs'] = prob_df.probs.apply(lambda x: convert_to_float(x))\n",
    "prob_df['Label'] = prob_df.probs.apply(lambda x: decode_target(x))"
   ]
  },
  {
   "cell_type": "code",
   "execution_count": 33,
   "metadata": {},
   "outputs": [],
   "source": [
    "join_df = prob_df[['Image','probs']].merge(df[['Image','probs']], on='Image', how='inner', suffixes=('', '_a'))\n",
    "join_df = join_df[['Image','probs','probs_a']].merge(df2[['Image','probs']], on='Image', how='inner', suffixes=('', '_8209'))\n",
    "join_df = join_df[['Image','probs','probs_a', 'probs_8209']].merge(df3[['Image','probs']], on='Image', how='inner', suffixes=('', '_8215'))\n",
    "join_df = join_df[['Image','probs','probs_a', 'probs_8209', 'probs_8215']].merge(df4[['Image','probs']], on='Image', how='inner', suffixes=('', '_80'))\n",
    "join_df = join_df.merge(df5[['Image','probs']], on='Image', how='inner', suffixes=('', '_86'))"
   ]
  },
  {
   "cell_type": "markdown",
   "metadata": {},
   "source": [
    "## Ensemble 6 predictions, double weighted to the first one "
   ]
  },
  {
   "cell_type": "code",
   "execution_count": 34,
   "metadata": {},
   "outputs": [
    {
     "data": {
      "text/html": [
       "<div>\n",
       "<style scoped>\n",
       "    .dataframe tbody tr th:only-of-type {\n",
       "        vertical-align: middle;\n",
       "    }\n",
       "\n",
       "    .dataframe tbody tr th {\n",
       "        vertical-align: top;\n",
       "    }\n",
       "\n",
       "    .dataframe thead th {\n",
       "        text-align: right;\n",
       "    }\n",
       "</style>\n",
       "<table border=\"1\" class=\"dataframe\">\n",
       "  <thead>\n",
       "    <tr style=\"text-align: right;\">\n",
       "      <th></th>\n",
       "      <th>Image</th>\n",
       "      <th>probs</th>\n",
       "      <th>probs_a</th>\n",
       "      <th>probs_8209</th>\n",
       "      <th>probs_8215</th>\n",
       "      <th>probs_80</th>\n",
       "      <th>probs_86</th>\n",
       "    </tr>\n",
       "  </thead>\n",
       "  <tbody>\n",
       "    <tr>\n",
       "      <th>0</th>\n",
       "      <td>24117</td>\n",
       "      <td>[0.0004, 0.0155, 0.0024, 0.2518, 0.95, 0.0009,...</td>\n",
       "      <td>[9.5058465e-05, 0.014020162, 0.00037502506, 0....</td>\n",
       "      <td>[0.01641696, 0.01638814, 0.00362593, 0.3331707...</td>\n",
       "      <td>[5.7942005e-05, 0.0050297314, 9.1644088e-06, 0...</td>\n",
       "      <td>[0.016672028, 0.0018953624, 0.00018162145, 0.0...</td>\n",
       "      <td>[0.000479539216, 0.00156817841, 0.000136659233...</td>\n",
       "    </tr>\n",
       "    <tr>\n",
       "      <th>1</th>\n",
       "      <td>15322</td>\n",
       "      <td>[2.4524e-07, 0.2182, 0.0005, 1.1602e-07, 0.988...</td>\n",
       "      <td>[0.0001791089, 0.18194675, 0.013605975, 7.4465...</td>\n",
       "      <td>[2.8430513e-06, 0.19838126, 0.000112322, 1.627...</td>\n",
       "      <td>[0.00021067445, 0.106468789, 0.003323121, 1.36...</td>\n",
       "      <td>[3.5563509e-05, 3.394056e-05, 9.4118752e-07, 6...</td>\n",
       "      <td>[0.00024917573, 0.041026946, 0.0051044147, 1.0...</td>\n",
       "    </tr>\n",
       "    <tr>\n",
       "      <th>2</th>\n",
       "      <td>14546</td>\n",
       "      <td>[0.0032, 0.0002, 0.1267, 0.0011, 0.001, 0.0002...</td>\n",
       "      <td>[0.002290464, 0.0031467017, 0.0091130901, 0.00...</td>\n",
       "      <td>[0.001825957, 0.00045198938, 0.21213529, 0.002...</td>\n",
       "      <td>[0.00031822547, 0.0012825869, 0.024267085, 0.0...</td>\n",
       "      <td>[0.00014495358, 3.9940132e-05, 0.0096416082, 0...</td>\n",
       "      <td>[0.00018258826, 0.0019051344, 0.00075059681, 0...</td>\n",
       "    </tr>\n",
       "    <tr>\n",
       "      <th>3</th>\n",
       "      <td>8079</td>\n",
       "      <td>[0.7786, 0.0006, 0.012, 0.0145, 0.0071, 0.0005...</td>\n",
       "      <td>[0.26363873, 0.0010697065, 0.00096246751, 0.74...</td>\n",
       "      <td>[0.67908257, 0.0017855426, 8.8504312e-05, 0.32...</td>\n",
       "      <td>[0.33807683, 0.00053502648, 9.0419009e-05, 0.3...</td>\n",
       "      <td>[0.22237635, 8.3819366e-05, 7.6223723e-06, 0.0...</td>\n",
       "      <td>[0.013339059, 0.0022857406, 0.00015843546, 0.4...</td>\n",
       "    </tr>\n",
       "    <tr>\n",
       "      <th>4</th>\n",
       "      <td>13192</td>\n",
       "      <td>[0.1838, 0.0495, 0.1327, 0.6854, 0.8478, 0.173...</td>\n",
       "      <td>[0.018926281, 0.01482162, 0.0067124637, 0.7886...</td>\n",
       "      <td>[0.2977565, 0.09708337, 0.03678794, 0.5183007,...</td>\n",
       "      <td>[0.0012364932, 0.00039242712, 0.01967275, 0.99...</td>\n",
       "      <td>[0.010964317, 0.0090751778, 0.0017462507, 0.81...</td>\n",
       "      <td>[0.0081615355, 0.00052142725, 0.0063790623, 0....</td>\n",
       "    </tr>\n",
       "  </tbody>\n",
       "</table>\n",
       "</div>"
      ],
      "text/plain": [
       "   Image                                              probs  \\\n",
       "0  24117  [0.0004, 0.0155, 0.0024, 0.2518, 0.95, 0.0009,...   \n",
       "1  15322  [2.4524e-07, 0.2182, 0.0005, 1.1602e-07, 0.988...   \n",
       "2  14546  [0.0032, 0.0002, 0.1267, 0.0011, 0.001, 0.0002...   \n",
       "3   8079  [0.7786, 0.0006, 0.012, 0.0145, 0.0071, 0.0005...   \n",
       "4  13192  [0.1838, 0.0495, 0.1327, 0.6854, 0.8478, 0.173...   \n",
       "\n",
       "                                             probs_a  \\\n",
       "0  [9.5058465e-05, 0.014020162, 0.00037502506, 0....   \n",
       "1  [0.0001791089, 0.18194675, 0.013605975, 7.4465...   \n",
       "2  [0.002290464, 0.0031467017, 0.0091130901, 0.00...   \n",
       "3  [0.26363873, 0.0010697065, 0.00096246751, 0.74...   \n",
       "4  [0.018926281, 0.01482162, 0.0067124637, 0.7886...   \n",
       "\n",
       "                                          probs_8209  \\\n",
       "0  [0.01641696, 0.01638814, 0.00362593, 0.3331707...   \n",
       "1  [2.8430513e-06, 0.19838126, 0.000112322, 1.627...   \n",
       "2  [0.001825957, 0.00045198938, 0.21213529, 0.002...   \n",
       "3  [0.67908257, 0.0017855426, 8.8504312e-05, 0.32...   \n",
       "4  [0.2977565, 0.09708337, 0.03678794, 0.5183007,...   \n",
       "\n",
       "                                          probs_8215  \\\n",
       "0  [5.7942005e-05, 0.0050297314, 9.1644088e-06, 0...   \n",
       "1  [0.00021067445, 0.106468789, 0.003323121, 1.36...   \n",
       "2  [0.00031822547, 0.0012825869, 0.024267085, 0.0...   \n",
       "3  [0.33807683, 0.00053502648, 9.0419009e-05, 0.3...   \n",
       "4  [0.0012364932, 0.00039242712, 0.01967275, 0.99...   \n",
       "\n",
       "                                            probs_80  \\\n",
       "0  [0.016672028, 0.0018953624, 0.00018162145, 0.0...   \n",
       "1  [3.5563509e-05, 3.394056e-05, 9.4118752e-07, 6...   \n",
       "2  [0.00014495358, 3.9940132e-05, 0.0096416082, 0...   \n",
       "3  [0.22237635, 8.3819366e-05, 7.6223723e-06, 0.0...   \n",
       "4  [0.010964317, 0.0090751778, 0.0017462507, 0.81...   \n",
       "\n",
       "                                            probs_86  \n",
       "0  [0.000479539216, 0.00156817841, 0.000136659233...  \n",
       "1  [0.00024917573, 0.041026946, 0.0051044147, 1.0...  \n",
       "2  [0.00018258826, 0.0019051344, 0.00075059681, 0...  \n",
       "3  [0.013339059, 0.0022857406, 0.00015843546, 0.4...  \n",
       "4  [0.0081615355, 0.00052142725, 0.0063790623, 0....  "
      ]
     },
     "execution_count": 34,
     "metadata": {},
     "output_type": "execute_result"
    }
   ],
   "source": [
    "join_df.head()"
   ]
  },
  {
   "cell_type": "code",
   "execution_count": 35,
   "metadata": {},
   "outputs": [],
   "source": [
    "import numpy as np\n",
    "\n",
    "lst_add = []\n",
    "for n, row in join_df.iterrows():\n",
    "    add_prob = (np.array(row['probs']) * 2) + np.array(row['probs_8209']) + np.array(row['probs_a']) + np.array(row['probs_80']) + np.array(row['probs_8215']) + np.array(row['probs_86'])\n",
    "    lst_add.append(list(add_prob / 6))"
   ]
  },
  {
   "cell_type": "code",
   "execution_count": 36,
   "metadata": {},
   "outputs": [
    {
     "data": {
      "text/html": [
       "<div>\n",
       "<style scoped>\n",
       "    .dataframe tbody tr th:only-of-type {\n",
       "        vertical-align: middle;\n",
       "    }\n",
       "\n",
       "    .dataframe tbody tr th {\n",
       "        vertical-align: top;\n",
       "    }\n",
       "\n",
       "    .dataframe thead th {\n",
       "        text-align: right;\n",
       "    }\n",
       "</style>\n",
       "<table border=\"1\" class=\"dataframe\">\n",
       "  <thead>\n",
       "    <tr style=\"text-align: right;\">\n",
       "      <th></th>\n",
       "      <th>Image</th>\n",
       "      <th>Label</th>\n",
       "      <th>avg</th>\n",
       "    </tr>\n",
       "  </thead>\n",
       "  <tbody>\n",
       "    <tr>\n",
       "      <th>0</th>\n",
       "      <td>24117</td>\n",
       "      <td>4 8</td>\n",
       "      <td>[0.005753587947666666, 0.011650262368333332, 0...</td>\n",
       "    </tr>\n",
       "    <tr>\n",
       "      <th>1</th>\n",
       "      <td>15322</td>\n",
       "      <td>4</td>\n",
       "      <td>[0.00011297602004999999, 0.16070961426, 0.0038...</td>\n",
       "    </tr>\n",
       "    <tr>\n",
       "      <th>2</th>\n",
       "      <td>14546</td>\n",
       "      <td>6</td>\n",
       "      <td>[0.0018603647183333336, 0.0012043920853333334,...</td>\n",
       "    </tr>\n",
       "    <tr>\n",
       "      <th>3</th>\n",
       "      <td>8079</td>\n",
       "      <td>0 6</td>\n",
       "      <td>[0.5122855898333333, 0.001159972591, 0.0042179...</td>\n",
       "    </tr>\n",
       "    <tr>\n",
       "      <th>4</th>\n",
       "      <td>13192</td>\n",
       "      <td>3 4</td>\n",
       "      <td>[0.11744085444999998, 0.03681567036166667, 0.0...</td>\n",
       "    </tr>\n",
       "  </tbody>\n",
       "</table>\n",
       "</div>"
      ],
      "text/plain": [
       "   Image Label                                                avg\n",
       "0  24117   4 8  [0.005753587947666666, 0.011650262368333332, 0...\n",
       "1  15322     4  [0.00011297602004999999, 0.16070961426, 0.0038...\n",
       "2  14546     6  [0.0018603647183333336, 0.0012043920853333334,...\n",
       "3   8079   0 6  [0.5122855898333333, 0.001159972591, 0.0042179...\n",
       "4  13192   3 4  [0.11744085444999998, 0.03681567036166667, 0.0..."
      ]
     },
     "execution_count": 36,
     "metadata": {},
     "output_type": "execute_result"
    }
   ],
   "source": [
    "join_df['avg'] = lst_add\n",
    "join_df['Label'] = join_df.avg.apply(lambda x: decode_target(x))\n",
    "\n",
    "en = join_df[['Image', 'Label', 'avg']]\n",
    "en.head()"
   ]
  },
  {
   "cell_type": "markdown",
   "metadata": {},
   "source": [
    "## Changes threshold to fill missing labels"
   ]
  },
  {
   "cell_type": "code",
   "execution_count": 37,
   "metadata": {},
   "outputs": [
    {
     "name": "stdout",
     "output_type": "stream",
     "text": [
      "#missing classes before th = 122\n",
      "#missing classes after th = 82\n",
      "#missing classes before th = 82\n",
      "#missing classes after th = 73\n",
      "#missing classes before th = 73\n",
      "#missing classes after th = 0\n"
     ]
    },
    {
     "name": "stderr",
     "output_type": "stream",
     "text": [
      "/Users/mimi/anaconda3/envs/audio/lib/python3.7/site-packages/ipykernel_launcher.py:28: SettingWithCopyWarning: \n",
      "A value is trying to be set on a copy of a slice from a DataFrame.\n",
      "Try using .loc[row_indexer,col_indexer] = value instead\n",
      "\n",
      "See the caveats in the documentation: https://pandas.pydata.org/pandas-docs/stable/user_guide/indexing.html#returning-a-view-versus-a-copy\n",
      "/Users/mimi/anaconda3/envs/audio/lib/python3.7/site-packages/ipykernel_launcher.py:26: SettingWithCopyWarning: \n",
      "A value is trying to be set on a copy of a slice from a DataFrame.\n",
      "Try using .loc[row_indexer,col_indexer] = value instead\n",
      "\n",
      "See the caveats in the documentation: https://pandas.pydata.org/pandas-docs/stable/user_guide/indexing.html#returning-a-view-versus-a-copy\n"
     ]
    }
   ],
   "source": [
    "ensemble_df = fill_na_with_threshold(en, 0.46)\n",
    "ensemble_df = fill_na_with_threshold(en, 0.445)\n",
    "ensemble_df = fill_na_with_threshold(en, 1, argmax=True)"
   ]
  },
  {
   "cell_type": "code",
   "execution_count": 38,
   "metadata": {},
   "outputs": [
    {
     "data": {
      "text/html": [
       "<div>\n",
       "<style scoped>\n",
       "    .dataframe tbody tr th:only-of-type {\n",
       "        vertical-align: middle;\n",
       "    }\n",
       "\n",
       "    .dataframe tbody tr th {\n",
       "        vertical-align: top;\n",
       "    }\n",
       "\n",
       "    .dataframe thead th {\n",
       "        text-align: right;\n",
       "    }\n",
       "</style>\n",
       "<table border=\"1\" class=\"dataframe\">\n",
       "  <thead>\n",
       "    <tr style=\"text-align: right;\">\n",
       "      <th></th>\n",
       "      <th>Image</th>\n",
       "      <th>Label</th>\n",
       "    </tr>\n",
       "  </thead>\n",
       "  <tbody>\n",
       "    <tr>\n",
       "      <th>0</th>\n",
       "      <td>24117</td>\n",
       "      <td>4 8</td>\n",
       "    </tr>\n",
       "    <tr>\n",
       "      <th>1</th>\n",
       "      <td>15322</td>\n",
       "      <td>4</td>\n",
       "    </tr>\n",
       "    <tr>\n",
       "      <th>2</th>\n",
       "      <td>14546</td>\n",
       "      <td>6</td>\n",
       "    </tr>\n",
       "    <tr>\n",
       "      <th>3</th>\n",
       "      <td>8079</td>\n",
       "      <td>0 6</td>\n",
       "    </tr>\n",
       "    <tr>\n",
       "      <th>4</th>\n",
       "      <td>13192</td>\n",
       "      <td>3 4</td>\n",
       "    </tr>\n",
       "  </tbody>\n",
       "</table>\n",
       "</div>"
      ],
      "text/plain": [
       "   Image Label\n",
       "0  24117   4 8\n",
       "1  15322     4\n",
       "2  14546     6\n",
       "3   8079   0 6\n",
       "4  13192   3 4"
      ]
     },
     "execution_count": 38,
     "metadata": {},
     "output_type": "execute_result"
    }
   ],
   "source": [
    "final_df = en[['Image', 'Label']]\n",
    "final_df.head()"
   ]
  },
  {
   "cell_type": "code",
   "execution_count": 117,
   "metadata": {},
   "outputs": [],
   "source": [
    "# final_df.to_csv('path/final_submission.csv',index=False)"
   ]
  }
 ],
 "metadata": {
  "kernelspec": {
   "display_name": "Python 3",
   "language": "python",
   "name": "python3"
  },
  "language_info": {
   "codemirror_mode": {
    "name": "ipython",
    "version": 3
   },
   "file_extension": ".py",
   "mimetype": "text/x-python",
   "name": "python",
   "nbconvert_exporter": "python",
   "pygments_lexer": "ipython3",
   "version": "3.7.6"
  }
 },
 "nbformat": 4,
 "nbformat_minor": 4
}
